{
 "cells": [
  {
   "cell_type": "code",
   "execution_count": 6,
   "id": "e8faaeef",
   "metadata": {},
   "outputs": [
    {
     "data": {
      "image/png": "[encoded data removed]",
      "text/plain": [
       "<Figure size 432x288 with 1 Axes>"
      ]
     },
     "metadata": {},
     "output_type": "display_data"
    }
   ],
   "source": [
    "import networkx as nx\n",
    "F = nx.Graph()\n",
    "nodes = ['a','b', 'c', 'd']\n",
    "F.add_nodes_from(nodes)\n",
    "edges = [('a','b'),('a', 'c'), ('b', 'c'), ('c', 'd'),('a','d'),('b','d')]\n",
    "F.add_edges_from(edges)\n",
    "nx.draw(F, with_labels=True,node_color='#5D4E6D',\n",
    "        node_size=1600,\n",
    "        font_color='white',\n",
    "        font_size=16,)"
   ]
  },
  {
   "cell_type": "code",
   "execution_count": 8,
   "id": "91bbaa50",
   "metadata": {},
   "outputs": [
    {
     "data": {
      "text/plain": [
       "NodeView(('a', 'b', 'c', 'd'))"
      ]
     },
     "execution_count": 8,
     "metadata": {},
     "output_type": "execute_result"
    }
   ],
   "source": [
    "F.nodes()"
   ]
  },
  {
   "cell_type": "code",
   "execution_count": 9,
   "id": "e8228aa1",
   "metadata": {},
   "outputs": [
    {
     "name": "stdout",
     "output_type": "stream",
     "text": [
      "a\n",
      "b\n",
      "c\n",
      "d\n"
     ]
    }
   ],
   "source": [
    "for node in F.nodes:\n",
    "    print(node)"
   ]
  },
  {
   "cell_type": "code",
   "execution_count": 10,
   "id": "f18a2be2",
   "metadata": {},
   "outputs": [
    {
     "data": {
      "text/plain": [
       "4"
      ]
     },
     "execution_count": 10,
     "metadata": {},
     "output_type": "execute_result"
    }
   ],
   "source": [
    "F.number_of_nodes()"
   ]
  },
  {
   "cell_type": "code",
   "execution_count": 11,
   "id": "a3b2e2e8",
   "metadata": {},
   "outputs": [
    {
     "data": {
      "text/plain": [
       "6"
      ]
     },
     "execution_count": 11,
     "metadata": {},
     "output_type": "execute_result"
    }
   ],
   "source": [
    "F.number_of_edges()"
   ]
  },
  {
   "cell_type": "code",
   "execution_count": 12,
   "id": "3c83fd48",
   "metadata": {},
   "outputs": [
    {
     "data": {
      "text/plain": [
       "<dict_keyiterator at 0x22435500680>"
      ]
     },
     "execution_count": 12,
     "metadata": {},
     "output_type": "execute_result"
    }
   ],
   "source": [
    "F.neighbors('b')"
   ]
  },
  {
   "cell_type": "code",
   "execution_count": 13,
   "id": "08b827c1",
   "metadata": {},
   "outputs": [
    {
     "name": "stdout",
     "output_type": "stream",
     "text": [
      "a\n",
      "c\n",
      "d\n"
     ]
    }
   ],
   "source": [
    "for neighbor in F.neighbors('b'):\n",
    "    print(neighbor)"
   ]
  },
  {
   "cell_type": "code",
   "execution_count": 14,
   "id": "16ff8c51",
   "metadata": {},
   "outputs": [
    {
     "data": {
      "text/plain": [
       "['a', 'c', 'd']"
      ]
     },
     "execution_count": 14,
     "metadata": {},
     "output_type": "execute_result"
    }
   ],
   "source": [
    "list(F.neighbors('b'))"
   ]
  },
  {
   "cell_type": "code",
   "execution_count": 15,
   "id": "b0d9abac",
   "metadata": {},
   "outputs": [
    {
     "data": {
      "text/plain": [
       "False"
      ]
     },
     "execution_count": 15,
     "metadata": {},
     "output_type": "execute_result"
    }
   ],
   "source": [
    "nx.is_tree(F)"
   ]
  },
  {
   "cell_type": "code",
   "execution_count": 16,
   "id": "5882c5a2",
   "metadata": {},
   "outputs": [
    {
     "data": {
      "text/plain": [
       "True"
      ]
     },
     "execution_count": 16,
     "metadata": {},
     "output_type": "execute_result"
    }
   ],
   "source": [
    "nx.is_connected(F)"
   ]
  },
  {
   "cell_type": "code",
   "execution_count": 17,
   "id": "47cd042b",
   "metadata": {},
   "outputs": [
    {
     "data": {
      "text/plain": [
       "True"
      ]
     },
     "execution_count": 17,
     "metadata": {},
     "output_type": "execute_result"
    }
   ],
   "source": [
    "F.has_node('d')"
   ]
  },
  {
   "cell_type": "code",
   "execution_count": 18,
   "id": "f88404de",
   "metadata": {},
   "outputs": [
    {
     "name": "stdout",
     "output_type": "stream",
     "text": [
      "('a', 'b')\n",
      "('a', 'c')\n",
      "('a', 'd')\n",
      "('b', 'c')\n",
      "('b', 'd')\n",
      "('c', 'd')\n"
     ]
    }
   ],
   "source": [
    "for edge in F.edges:\n",
    "    print(edge)"
   ]
  },
  {
   "cell_type": "code",
   "execution_count": 19,
   "id": "02bed56b",
   "metadata": {},
   "outputs": [
    {
     "data": {
      "text/plain": [
       "EdgeView([('a', 'b'), ('a', 'c'), ('a', 'd'), ('b', 'c'), ('b', 'd'), ('c', 'd')])"
      ]
     },
     "execution_count": 19,
     "metadata": {},
     "output_type": "execute_result"
    }
   ],
   "source": [
    "F.edges()"
   ]
  },
  {
   "cell_type": "code",
   "execution_count": 20,
   "id": "c73f0beb",
   "metadata": {},
   "outputs": [
    {
     "data": {
      "text/plain": [
       "True"
      ]
     },
     "execution_count": 20,
     "metadata": {},
     "output_type": "execute_result"
    }
   ],
   "source": [
    "'d' in F.nodes"
   ]
  },
  {
   "cell_type": "code",
   "execution_count": 21,
   "id": "6c1786e3",
   "metadata": {},
   "outputs": [
    {
     "data": {
      "text/plain": [
       "True"
      ]
     },
     "execution_count": 21,
     "metadata": {},
     "output_type": "execute_result"
    }
   ],
   "source": [
    "F.has_edge('a', 'c')"
   ]
  },
  {
   "cell_type": "code",
   "execution_count": 22,
   "id": "5c558129",
   "metadata": {},
   "outputs": [
    {
     "data": {
      "text/plain": [
       "True"
      ]
     },
     "execution_count": 22,
     "metadata": {},
     "output_type": "execute_result"
    }
   ],
   "source": [
    "('c', 'd') in F.edges"
   ]
  },
  {
   "cell_type": "code",
   "execution_count": 23,
   "id": "9da58235",
   "metadata": {},
   "outputs": [
    {
     "data": {
      "text/plain": [
       "3"
      ]
     },
     "execution_count": 23,
     "metadata": {},
     "output_type": "execute_result"
    }
   ],
   "source": [
    "len(list(F.neighbors('c')))"
   ]
  },
  {
   "cell_type": "code",
   "execution_count": 24,
   "id": "3e7b9a9e",
   "metadata": {},
   "outputs": [
    {
     "data": {
      "text/plain": [
       "3"
      ]
     },
     "execution_count": 24,
     "metadata": {},
     "output_type": "execute_result"
    }
   ],
   "source": [
    "F.degree('d')"
   ]
  },
  {
   "cell_type": "code",
   "execution_count": 26,
   "id": "9e25f897",
   "metadata": {},
   "outputs": [
    {
     "data": {
      "image/png": "[encoded data removed]",
      "text/plain": [
       "<Figure size 432x288 with 1 Axes>"
      ]
     },
     "metadata": {},
     "output_type": "display_data"
    }
   ],
   "source": [
    "#Solve Of EXERCISE 1\n",
    "import networkx as nx\n",
    "F = nx.Graph()\n",
    "nodes = ['a','b', 'c']\n",
    "F.add_nodes_from(nodes)\n",
    "edges = [ ('a', 'b'),('a', 'd'),('c', 'd'),]\n",
    "F.add_edges_from(edges)\n",
    "nx.draw(F, with_labels=True,node_color='#ae2012',\n",
    "        node_size=1600,\n",
    "        font_color='white',\n",
    "        font_size=16,)"
   ]
  },
  {
   "cell_type": "code",
   "execution_count": 27,
   "id": "544baa4e",
   "metadata": {},
   "outputs": [],
   "source": [
    "def get_leaves(F):\n",
    "    li=[]\n",
    "    for j in F.nodes():\n",
    "        if F.degree(j)==1:\n",
    "            li.append(j)\n",
    "    return li"
   ]
  },
  {
   "cell_type": "code",
   "execution_count": 28,
   "id": "51e19b6e",
   "metadata": {},
   "outputs": [
    {
     "data": {
      "text/plain": [
       "['b', 'c']"
      ]
     },
     "execution_count": 28,
     "metadata": {},
     "output_type": "execute_result"
    }
   ],
   "source": [
    "get_leaves(F)"
   ]
  },
  {
   "cell_type": "code",
   "execution_count": 12,
   "id": "bf53424b",
   "metadata": {},
   "outputs": [
    {
     "name": "stdout",
     "output_type": "stream",
     "text": [
      "George Frank Dennis\n",
      "Dennis Claire Esther\n",
      "Claire Frank Alice Esther\n",
      "Bob Alice\n",
      "Frank Alice\n",
      "Alice\n",
      "Esther\n",
      "Shelly\n",
      "\n"
     ]
    }
   ],
   "source": [
    "#Solve Of Exercise 2\n",
    "import networkx as nx\n",
    "F = nx.Graph()\n",
    "print(open('friends.adjlist').read())"
   ]
  },
  {
   "cell_type": "code",
   "execution_count": 13,
   "id": "913a1109",
   "metadata": {},
   "outputs": [],
   "source": [
    "SF = nx.read_adjlist('friends.adjlist')"
   ]
  },
  {
   "cell_type": "code",
   "execution_count": 14,
   "id": "1e2c3c71",
   "metadata": {},
   "outputs": [
    {
     "data": {
      "image/png": "[encoded data removed]",
      "text/plain": [
       "<Figure size 432x288 with 1 Axes>"
      ]
     },
     "metadata": {},
     "output_type": "display_data"
    }
   ],
   "source": [
    "nx.draw(SF, node_size=2000, node_color='#333d29', with_labels=True,font_color='white')"
   ]
  },
  {
   "cell_type": "code",
   "execution_count": 15,
   "id": "07bc4973",
   "metadata": {},
   "outputs": [
    {
     "name": "stdout",
     "output_type": "stream",
     "text": [
      "['Claire', 4]\n"
     ]
    }
   ],
   "source": [
    "def max_degree(x):\n",
    "    list2=[]\n",
    "    mx=0\n",
    "    for node in x.nodes:\n",
    "        if x.degree(node)>mx:\n",
    "            mx=x.degree(node)\n",
    "            n=node\n",
    "    list2.append(n)\n",
    "    list2.append(mx)\n",
    "    print(list2)\n",
    "\n",
    "max_degree(SF)"
   ]
  },
  {
   "cell_type": "code",
   "execution_count": 17,
   "id": "c3719055",
   "metadata": {},
   "outputs": [
    {
     "name": "stdout",
     "output_type": "stream",
     "text": [
      "['Dennis', 'Frank']\n"
     ]
    }
   ],
   "source": [
    "#Solve Of Exercise 3\n",
    "def mutual_friends(s,x1,x2):\n",
    "    result=[]\n",
    "    list1=list(s.neighbors(x1))\n",
    "    list2=list(s.neighbors(x2))\n",
    "    for i in range(len(list1)):\n",
    "        for j in range(len(list2)):\n",
    "            if list1[i]==list2[j]:\n",
    "                result.append(list1[i])\n",
    "    print(result)\n",
    "    \n",
    "(mutual_friends(SF, 'Claire', 'George'))\n"
   ]
  },
  {
   "cell_type": "code",
   "execution_count": null,
   "id": "ef6cd6f9",
   "metadata": {},
   "outputs": [],
   "source": []
  }
 ],
 "metadata": {
  "kernelspec": {
   "display_name": "Python 3 (ipykernel)",
   "language": "python",
   "name": "python3"
  },
  "language_info": {
   "codemirror_mode": {
    "name": "ipython",
    "version": 3
   },
   "file_extension": ".py",
   "mimetype": "text/x-python",
   "name": "python",
   "nbconvert_exporter": "python",
   "pygments_lexer": "ipython3",
   "version": "3.9.7"
  }
 },
 "nbformat": 4,
 "nbformat_minor": 5
}
